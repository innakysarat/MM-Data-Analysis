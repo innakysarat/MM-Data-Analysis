{
 "cells": [
  {
   "cell_type": "markdown",
   "metadata": {},
   "source": [
    "# HSE 2021: Mathematical Methods for Data Analysis\n",
    "\n",
    "## Homework 1"
   ]
  },
  {
   "cell_type": "markdown",
   "metadata": {},
   "source": [
    "### Attention!\n",
    "* For tasks where <ins>text answer</ins> is required **Russian language** is **allowed**.\n",
    "* If a task asks you to describe something (make coclusions) then **text answer** is **mandatory** and **is** part of the task\n",
    "* **Do not** upload the dataset (titanic.csv) to the grading system (we already have it)\n",
    "* We **only** accept **ipynb** notebooks. If you use Google Colab then you'll have to download the notebook before passing the homework\n",
    "* **Do not** use python loops instead of NumPy vector operations over NumPy vectors - it significantly decreases performance (see why https://blog.paperspace.com/numpy-optimization-vectorization-and-broadcasting/), will be punished with -0.25 for **every** task. \n",
    "Loops are only allowed in part 1 (Tasks 1 - 4). \n",
    "* Some tasks contain tests. They only test you solution on a simple example, thus, passing the test does **not** guarantee you the full grade for the task. "
   ]
  },
  {
   "cell_type": "code",
   "execution_count": 1,
   "metadata": {},
   "outputs": [],
   "source": [
    "%matplotlib inline\n",
    "import numpy as np\n",
    "import pandas as pd\n",
    "import matplotlib.pyplot as plt\n",
    "import seaborn as sns"
   ]
  },
  {
   "cell_type": "markdown",
   "metadata": {},
   "source": [
    "# 1. Python (2 points)"
   ]
  },
  {
   "cell_type": "markdown",
   "metadata": {},
   "source": [
    "**Task 1** (0.5 points)<br/> \n",
    "Enter numbers `a`,  `d` и `N`. Find sum of the first `N` members of arithmetic progression with the first member `a` and difference `d`, without using formula for the sum."
   ]
  },
  {
   "cell_type": "code",
   "execution_count": 2,
   "metadata": {},
   "outputs": [],
   "source": [
    "def find_sum(a,d,N):\n",
    "    current_a = a\n",
    "    sum = 0\n",
    "    for i in range(1, N+1):\n",
    "        sum = sum + current_a\n",
    "        current_a = current_a + d\n",
    "    return sum"
   ]
  },
  {
   "cell_type": "markdown",
   "metadata": {},
   "source": [
    "Check yourself"
   ]
  },
  {
   "cell_type": "code",
   "execution_count": 3,
   "metadata": {},
   "outputs": [],
   "source": [
    "a = 2\n",
    "d = 3\n",
    "N = 15\n",
    "assert find_sum(a,d,N) == 345, 'Wrong answer'"
   ]
  },
  {
   "cell_type": "markdown",
   "metadata": {},
   "source": [
    "---\n",
    "**Task 2** (0.5 points) <br/> \n",
    "Enter an integer number `N`. Check if it is a prime number."
   ]
  },
  {
   "cell_type": "code",
   "execution_count": 4,
   "metadata": {},
   "outputs": [],
   "source": [
    "def check_prime(N):\n",
    "    if N > 1:\n",
    "        for i in range(2, N):\n",
    "            if N % i == 0:\n",
    "                return False\n",
    "    return True"
   ]
  },
  {
   "cell_type": "markdown",
   "metadata": {},
   "source": [
    "Check yourself"
   ]
  },
  {
   "cell_type": "code",
   "execution_count": 5,
   "metadata": {},
   "outputs": [],
   "source": [
    "inp = [3, 8, 13, 111, 113, 237, 307, 479, 481]\n",
    "answer = [True, False, True, False, True, False, True, True, False]\n",
    "\n",
    "for N, ans in zip(inp, answer):\n",
    "    assert check_prime(N) == ans, f'Wrong answer for input {N}, {ans} is expected'"
   ]
  },
  {
   "cell_type": "markdown",
   "metadata": {},
   "source": [
    "---\n",
    "**Task 3** (0.5 points) <br/> \n",
    "Find the first `N` prime numbers (you may use the function from the previous task)."
   ]
  },
  {
   "cell_type": "code",
   "execution_count": 6,
   "metadata": {},
   "outputs": [],
   "source": [
    "def find_primes(N):\n",
    "    primes = []\n",
    "    i = 2\n",
    "    while len(primes) < N:\n",
    "        if check_prime(i) == True:\n",
    "            primes.append(i)\n",
    "        i += 1\n",
    "    return primes"
   ]
  },
  {
   "cell_type": "markdown",
   "metadata": {},
   "source": [
    "Check yourself"
   ]
  },
  {
   "cell_type": "code",
   "execution_count": 7,
   "metadata": {},
   "outputs": [],
   "source": [
    "assert find_primes(5) == [2, 3, 5, 7, 11], 'Wrong answer'"
   ]
  },
  {
   "cell_type": "markdown",
   "metadata": {},
   "source": [
    "---\n",
    "**Task 4** (0.5 points) <br/> \n",
    "There are numbers: `a`, `b`, `c`. Without using functions `min`, `max` or any other functions, find the maximum number."
   ]
  },
  {
   "cell_type": "code",
   "execution_count": 8,
   "metadata": {},
   "outputs": [],
   "source": [
    "def find_max(a, b, c):\n",
    "    max = a\n",
    "    if (b > a):\n",
    "        max = b\n",
    "    if (c > max):\n",
    "        max = c\n",
    "    return max "
   ]
  },
  {
   "cell_type": "markdown",
   "metadata": {},
   "source": [
    "Check yourself"
   ]
  },
  {
   "cell_type": "code",
   "execution_count": 9,
   "metadata": {},
   "outputs": [
    {
     "name": "stdout",
     "output_type": "stream",
     "text": [
      "Checking on (57, 90, -3)\n",
      "Checking on (-27, -88, 46)\n",
      "Checking on (84, 89, -6)\n",
      "Checking on (13, 62, 63)\n",
      "Checking on (-11, -70, 89)\n",
      "Checking on (-98, 13, -91)\n",
      "Checking on (-47, 26, 95)\n",
      "Checking on (-73, 24, 10)\n",
      "Checking on (-83, 84, -55)\n",
      "Checking on (95, 4, 40)\n"
     ]
    }
   ],
   "source": [
    "from random import randint\n",
    "for i in range(10):    \n",
    "    a = randint(-100, 100)\n",
    "    b = randint(-100, 100)\n",
    "    c = randint(-100, 100)\n",
    "    answer = np.max([a, b, c])  # You cannot use `np.max` in the solution ;)\n",
    "    print(f'Checking on {a, b, c}')\n",
    "    assert find_max(a, b, c) == answer, f'Wrong maximum, {answer} is expected'"
   ]
  },
  {
   "cell_type": "markdown",
   "metadata": {},
   "source": [
    "# 2. Numpy (4 points)\n",
    "### **!Do not use loops in the tasks below, see disclamer at the top of the notebook**"
   ]
  },
  {
   "cell_type": "markdown",
   "metadata": {},
   "source": [
    "**Task 1** (0.5 points) <br/>\n",
    "Create a random array (`np.random.rand()`) with length of 20 and with sum of its elements equals to 3."
   ]
  },
  {
   "cell_type": "code",
   "execution_count": 10,
   "metadata": {},
   "outputs": [],
   "source": [
    "my_array = np.random.rand(20)\n",
    "my_array = my_array/np.sum(my_array)\n",
    "my_array[0] += 2"
   ]
  },
  {
   "cell_type": "markdown",
   "metadata": {},
   "source": [
    "Check yourself"
   ]
  },
  {
   "cell_type": "code",
   "execution_count": 11,
   "metadata": {},
   "outputs": [],
   "source": [
    "assert len(my_array) == 20\n",
    "assert np.allclose(np.sum(my_array), 3)"
   ]
  },
  {
   "cell_type": "markdown",
   "metadata": {},
   "source": [
    "---\n",
    "**Task 2** (0.5 points) <br/>\n",
    "Create two random arrays $a$ and $b$ with the same length. \n",
    "\n",
    "Calculate the following distances between the arrays **without using special functions. You may only use basic numpy operations (first level functions like `np.dot` are ok, higher level functions like `np.linalg.*` are prohibited).**:\n",
    "\n",
    "* Euclidean Distance\n",
    "$$ d(a, b) = \\sqrt{\\sum_i (a_i - b_i)^2} $$\n",
    "* Manhattan Distance\n",
    "$$ d(a, b) = \\sum_i |a_i - b_i| $$\n",
    "* Cosine Distance\n",
    "$$ d(a, b) = 1 - \\frac{a^\\top b}{||a||_2\\cdot||b||_2}, \\,\\, \\text{where}\\,\\, ||a||_2 = \\sqrt{\\sum_i a_i^2} $$"
   ]
  },
  {
   "cell_type": "code",
   "execution_count": 160,
   "metadata": {},
   "outputs": [],
   "source": [
    "def cal_euclidean(a, b):    \n",
    "    difference_array = np.subtract(a, b)\n",
    "    squared_array = np.square(difference_array)\n",
    "    sum = np.sum(squared_array)\n",
    "    euclidean = np.sqrt(sum)\n",
    "    return euclidean\n",
    "    \n",
    "\n",
    "def cal_manhattan(a, b):    \n",
    "    difference_array = np.subtract(a, b)\n",
    "    abs_array = abs(difference_array)\n",
    "    return np.sum(abs_array)\n",
    "    \n",
    "def cal_cosine(a, b):   \n",
    "    from numpy.linalg import norm\n",
    "    a_norm = np.sqrt(np.sum(np.square(a)))\n",
    "    b_norm = np.sqrt(np.sum(np.square(b)))\n",
    "    return 1 - (a.T @ b / np.round(a_norm * b_norm))"
   ]
  },
  {
   "cell_type": "markdown",
   "metadata": {},
   "source": [
    "Check yourself"
   ]
  },
  {
   "cell_type": "code",
   "execution_count": 161,
   "metadata": {},
   "outputs": [],
   "source": [
    "a = np.ones(10)*0.1\n",
    "b = np.ones(10)\n",
    "\n",
    "assert np.allclose(cal_euclidean(a, b), 2.846049)\n",
    "assert np.allclose(cal_manhattan(a, b), 9)\n",
    "assert np.allclose(cal_cosine(a, b), 0)"
   ]
  },
  {
   "cell_type": "markdown",
   "metadata": {},
   "source": [
    "---\n",
    "**Task 3** (0.5 points) <br/>\n",
    "Create a function `custom_scaler`, which takes as input an array with integer values and transforms an array, so that:\n",
    "* Maximum element(s) value is 2 (it **doesn't** mean `a[max_index] = 2`)\n",
    "* Minimum element(s) value is -2 (it **doesn't** mean `a[min_index] = -2`)\n",
    "* Other values are in the interval [-2, 2] (using **arithmetic** transformations)"
   ]
  },
  {
   "cell_type": "code",
   "execution_count": 14,
   "metadata": {},
   "outputs": [],
   "source": [
    "def custom_scaler(my_array):\n",
    "    my_array = np.where(my_array > 2, 2, my_array)\n",
    "    my_array = np.where(my_array < -2, -2, my_array)\n",
    "    return my_array"
   ]
  },
  {
   "cell_type": "markdown",
   "metadata": {},
   "source": [
    "Check yourself"
   ]
  },
  {
   "cell_type": "code",
   "execution_count": 15,
   "metadata": {},
   "outputs": [
    {
     "name": "stdout",
     "output_type": "stream",
     "text": [
      "[-82  97  19  49] ->> [-2  2  2  2]\n"
     ]
    }
   ],
   "source": [
    "test_array = np.random.randint(-100, 100, size=4)\n",
    "result = custom_scaler(test_array)\n",
    "print(test_array, '->>', result)\n",
    "\n",
    "assert np.allclose(np.max(result), 2), f'Maximum value should be 2, got {np.max(result)} instead'\n",
    "assert np.allclose(np.min(result), -2), f'Minimum value should be -2, got {np.min(result)} instead'\n",
    "assert np.sum(result < -2) + np.sum(result > 2) == 0, 'All elements are supposed to be between -2 and 2'"
   ]
  },
  {
   "cell_type": "markdown",
   "metadata": {},
   "source": [
    "---\n",
    "**Task 4** (0.5 points) <br/>\n",
    "Create an array with shape of $5 \\times 6$ with integers from [0,50]. Select a column which contains the maximum element of the array."
   ]
  },
  {
   "cell_type": "code",
   "execution_count": 16,
   "metadata": {},
   "outputs": [],
   "source": [
    "my_array = np.random.uniform(low = 0, high = 50, size=(5, 6))\n",
    "selected_column = np.argmax(np.max(my_array, axis = 0))"
   ]
  },
  {
   "cell_type": "code",
   "execution_count": 17,
   "metadata": {},
   "outputs": [
    {
     "name": "stdout",
     "output_type": "stream",
     "text": [
      "Array:\n",
      " [[31.34431287 27.66333082  6.43065639 41.40461986 26.13623035 46.81955697]\n",
      " [ 8.17042049 14.38162323 24.80776924 45.97001209 48.64844425 40.86917466]\n",
      " [ 5.15631065 15.1662462   7.21497146 33.09375386 16.42432412 14.71550426]\n",
      " [ 9.62324637 42.1321835   9.53076902 20.81407271 11.17686083  8.41910871]\n",
      " [ 6.72329947 18.50693743 10.89542016 24.36861239 32.67424536 20.87374598]]\n",
      "Shape: (5, 6)\n",
      "Selected column 4\n"
     ]
    }
   ],
   "source": [
    "print(f'Array:\\n {my_array}')\n",
    "print(f'Shape: {my_array.shape}')\n",
    "print(f'Selected column {selected_column}')"
   ]
  },
  {
   "cell_type": "markdown",
   "metadata": {},
   "source": [
    "---\n",
    "**Task 5** (0.5 points) <br/>\n",
    "\n",
    "Replace all missing values in the following array with mean."
   ]
  },
  {
   "cell_type": "code",
   "execution_count": 18,
   "metadata": {},
   "outputs": [
    {
     "name": "stdout",
     "output_type": "stream",
     "text": [
      "Given array: [0.96 0.01 0.63  nan  nan 0.07  nan 0.38 0.4  0.6 ]\n"
     ]
    }
   ],
   "source": [
    "arr = np.random.rand(10)\n",
    "idx = np.random.randint(0, 10, 4)\n",
    "arr[idx] = np.nan\n",
    "\n",
    "print(f'Given array: {np.array2string(arr, precision=2)}')"
   ]
  },
  {
   "cell_type": "code",
   "execution_count": 19,
   "metadata": {},
   "outputs": [
    {
     "name": "stdout",
     "output_type": "stream",
     "text": [
      "Result: [0.96 0.01 0.63 0.43 0.43 0.07 0.43 0.38 0.4  0.6 ]\n"
     ]
    }
   ],
   "source": [
    "np.nan_to_num(arr, False, np.nanmean(arr))\n",
    "\n",
    "print(f'Result: {np.array2string(arr, precision=2)}')"
   ]
  },
  {
   "cell_type": "markdown",
   "metadata": {},
   "source": [
    "---\n",
    "**Task 6** (0.5 points) <br/>\n",
    "Create a function which takes an image ```X``` (3D array of the shape (n, m, 3)) as an input and returns the mean for each of 3 channels (a vector of shape 3)."
   ]
  },
  {
   "cell_type": "code",
   "execution_count": 20,
   "metadata": {},
   "outputs": [],
   "source": [
    "def mean_channel(X):\n",
    "    return np.mean(X, axis=tuple(range(X.ndim-1)))"
   ]
  },
  {
   "cell_type": "code",
   "execution_count": 21,
   "metadata": {},
   "outputs": [
    {
     "data": {
      "text/plain": [
       "array([-0.62723214, -0.27232143,  0.07142857])"
      ]
     },
     "execution_count": 21,
     "metadata": {},
     "output_type": "execute_result"
    }
   ],
   "source": [
    "n = 28\n",
    "m = 16\n",
    "X =  np.random.randint(-10, 10, size=(n,m,3))\n",
    "mean_channel(X)"
   ]
  },
  {
   "cell_type": "markdown",
   "metadata": {},
   "source": [
    "---\n",
    "**Task 7** (1 points) <br/>\n",
    "Create a function which takes a matrix ```X``` as an input and returns all its unique rows as a matrix, i.e. in a 3D matrix you need to return all unique horizontal layers.\n",
    "\n",
    "Sample input:\n",
    "\n",
    "     ([[[4, 4],\n",
    "        [5, 5]],\n",
    "\n",
    "       [[4, 5],\n",
    "        [5, 5]],\n",
    "\n",
    "       [[4, 4],\n",
    "        [5, 4]],\n",
    "\n",
    "       [[4, 5],\n",
    "        [5, 5]],\n",
    "\n",
    "       [[5, 4],\n",
    "        [4, 4]],\n",
    "\n",
    "       [[5, 5],\n",
    "        [4, 5]]])\n",
    "        \n",
    "Sample output:\n",
    "\n",
    "     ([[[4, 4],\n",
    "        [5, 5]],\n",
    "\n",
    "       [[4, 5],\n",
    "        [5, 5]],\n",
    "\n",
    "       [[4, 4],\n",
    "        [5, 4]],\n",
    "\n",
    "       [[5, 4],\n",
    "        [4, 4]],\n",
    "\n",
    "       [[5, 5],\n",
    "        [4, 5]]])"
   ]
  },
  {
   "cell_type": "code",
   "execution_count": 22,
   "metadata": {},
   "outputs": [],
   "source": [
    "def get_unique_rows(X):\n",
    "    return np.unique(X, axis = 0)"
   ]
  },
  {
   "cell_type": "code",
   "execution_count": 23,
   "metadata": {},
   "outputs": [
    {
     "name": "stdout",
     "output_type": "stream",
     "text": [
      "[[[4 5]\n",
      "  [5 5]]\n",
      "\n",
      " [[5 4]\n",
      "  [5 5]]\n",
      "\n",
      " [[4 5]\n",
      "  [5 5]]\n",
      "\n",
      " [[4 5]\n",
      "  [4 5]]\n",
      "\n",
      " [[5 5]\n",
      "  [5 4]]\n",
      "\n",
      " [[5 4]\n",
      "  [5 4]]\n",
      "\n",
      " [[4 5]\n",
      "  [5 4]]\n",
      "\n",
      " [[5 5]\n",
      "  [4 4]]\n",
      "\n",
      " [[5 4]\n",
      "  [4 4]]\n",
      "\n",
      " [[5 5]\n",
      "  [5 5]]\n",
      "\n",
      " [[5 5]\n",
      "  [5 5]]\n",
      "\n",
      " [[5 5]\n",
      "  [5 4]]\n",
      "\n",
      " [[4 4]\n",
      "  [5 5]]\n",
      "\n",
      " [[5 5]\n",
      "  [5 5]]\n",
      "\n",
      " [[4 4]\n",
      "  [5 5]]\n",
      "\n",
      " [[4 4]\n",
      "  [4 5]]\n",
      "\n",
      " [[5 5]\n",
      "  [4 4]]\n",
      "\n",
      " [[4 4]\n",
      "  [4 5]]\n",
      "\n",
      " [[5 4]\n",
      "  [4 4]]\n",
      "\n",
      " [[5 5]\n",
      "  [5 4]]\n",
      "\n",
      " [[4 4]\n",
      "  [4 4]]\n",
      "\n",
      " [[5 4]\n",
      "  [4 4]]\n",
      "\n",
      " [[5 5]\n",
      "  [5 5]]\n",
      "\n",
      " [[5 4]\n",
      "  [4 4]]\n",
      "\n",
      " [[4 5]\n",
      "  [5 5]]\n",
      "\n",
      " [[5 5]\n",
      "  [5 4]]\n",
      "\n",
      " [[4 4]\n",
      "  [4 4]]\n",
      "\n",
      " [[4 4]\n",
      "  [4 5]]]\n"
     ]
    },
    {
     "data": {
      "text/plain": [
       "array([[[4, 4],\n",
       "        [4, 4]],\n",
       "\n",
       "       [[4, 4],\n",
       "        [4, 5]],\n",
       "\n",
       "       [[4, 4],\n",
       "        [5, 5]],\n",
       "\n",
       "       [[4, 5],\n",
       "        [4, 5]],\n",
       "\n",
       "       [[4, 5],\n",
       "        [5, 4]],\n",
       "\n",
       "       [[4, 5],\n",
       "        [5, 5]],\n",
       "\n",
       "       [[5, 4],\n",
       "        [4, 4]],\n",
       "\n",
       "       [[5, 4],\n",
       "        [5, 4]],\n",
       "\n",
       "       [[5, 4],\n",
       "        [5, 5]],\n",
       "\n",
       "       [[5, 5],\n",
       "        [4, 4]],\n",
       "\n",
       "       [[5, 5],\n",
       "        [5, 4]],\n",
       "\n",
       "       [[5, 5],\n",
       "        [5, 5]]])"
      ]
     },
     "execution_count": 23,
     "metadata": {},
     "output_type": "execute_result"
    }
   ],
   "source": [
    "X =  np.random.randint(4, 6, size=(n, 2, 2))\n",
    "print(X)\n",
    "get_unique_rows(X)"
   ]
  },
  {
   "cell_type": "markdown",
   "metadata": {},
   "source": [
    "# 3. Pandas & Visualization (4 points)\n"
   ]
  },
  {
   "cell_type": "markdown",
   "metadata": {},
   "source": [
    "You are going to work with *Titanic* dataset which contains information about passengers of Titanic:\n",
    "- **Survived** - 1 - survived, 0 - died (0); **Target variable**\n",
    "- **pclass** - passengers's class;\n",
    "- **sex** - passengers's sex\n",
    "- **Age** - passengers's age in years\n",
    "- **sibsp**    - is the passenger someones siblings   \n",
    "- **parch**    - is the passenger someones child or parent\n",
    "- **ticket** - ticket number    \n",
    "- **fare** - ticket price    \n",
    "- **cabin** - cabin number\n",
    "- **embarked** - port of Embarkation; C = Cherbourg, Q = Queenstown, S = Southampton\n",
    "\n",
    "**Note** for all visualizations use matplotlib or seaborn but NOT plotly! Plotly's graphics sometimes vanish after saving. In this case the task wont't be graded.\n",
    "\n",
    "**Note** support all your answers with necessary code, computations, vizualization, and explanation. Answers without code and explanation won't be graded.\n",
    "\n",
    "**Task 0** (0 points) \\\n",
    "Load the dataset"
   ]
  },
  {
   "cell_type": "code",
   "execution_count": 24,
   "metadata": {},
   "outputs": [
    {
     "data": {
      "text/html": [
       "<div>\n",
       "<style scoped>\n",
       "    .dataframe tbody tr th:only-of-type {\n",
       "        vertical-align: middle;\n",
       "    }\n",
       "\n",
       "    .dataframe tbody tr th {\n",
       "        vertical-align: top;\n",
       "    }\n",
       "\n",
       "    .dataframe thead th {\n",
       "        text-align: right;\n",
       "    }\n",
       "</style>\n",
       "<table border=\"1\" class=\"dataframe\">\n",
       "  <thead>\n",
       "    <tr style=\"text-align: right;\">\n",
       "      <th></th>\n",
       "      <th>PassengerId</th>\n",
       "      <th>Survived</th>\n",
       "      <th>Pclass</th>\n",
       "      <th>Name</th>\n",
       "      <th>Sex</th>\n",
       "      <th>Age</th>\n",
       "      <th>SibSp</th>\n",
       "      <th>Parch</th>\n",
       "      <th>Ticket</th>\n",
       "      <th>Fare</th>\n",
       "      <th>Cabin</th>\n",
       "      <th>Embarked</th>\n",
       "    </tr>\n",
       "  </thead>\n",
       "  <tbody>\n",
       "    <tr>\n",
       "      <th>0</th>\n",
       "      <td>1</td>\n",
       "      <td>0</td>\n",
       "      <td>3</td>\n",
       "      <td>Braund, Mr. Owen Harris</td>\n",
       "      <td>male</td>\n",
       "      <td>22.0</td>\n",
       "      <td>1</td>\n",
       "      <td>0</td>\n",
       "      <td>A/5 21171</td>\n",
       "      <td>7.2500</td>\n",
       "      <td>NaN</td>\n",
       "      <td>S</td>\n",
       "    </tr>\n",
       "    <tr>\n",
       "      <th>1</th>\n",
       "      <td>2</td>\n",
       "      <td>1</td>\n",
       "      <td>1</td>\n",
       "      <td>Cumings, Mrs. John Bradley (Florence Briggs Th...</td>\n",
       "      <td>female</td>\n",
       "      <td>38.0</td>\n",
       "      <td>1</td>\n",
       "      <td>0</td>\n",
       "      <td>PC 17599</td>\n",
       "      <td>71.2833</td>\n",
       "      <td>C85</td>\n",
       "      <td>C</td>\n",
       "    </tr>\n",
       "    <tr>\n",
       "      <th>2</th>\n",
       "      <td>3</td>\n",
       "      <td>1</td>\n",
       "      <td>3</td>\n",
       "      <td>Heikkinen, Miss. Laina</td>\n",
       "      <td>female</td>\n",
       "      <td>26.0</td>\n",
       "      <td>0</td>\n",
       "      <td>0</td>\n",
       "      <td>STON/O2. 3101282</td>\n",
       "      <td>7.9250</td>\n",
       "      <td>NaN</td>\n",
       "      <td>S</td>\n",
       "    </tr>\n",
       "  </tbody>\n",
       "</table>\n",
       "</div>"
      ],
      "text/plain": [
       "   PassengerId  Survived  Pclass  \\\n",
       "0            1         0       3   \n",
       "1            2         1       1   \n",
       "2            3         1       3   \n",
       "\n",
       "                                                Name     Sex   Age  SibSp  \\\n",
       "0                            Braund, Mr. Owen Harris    male  22.0      1   \n",
       "1  Cumings, Mrs. John Bradley (Florence Briggs Th...  female  38.0      1   \n",
       "2                             Heikkinen, Miss. Laina  female  26.0      0   \n",
       "\n",
       "   Parch            Ticket     Fare Cabin Embarked  \n",
       "0      0         A/5 21171   7.2500   NaN        S  \n",
       "1      0          PC 17599  71.2833   C85        C  \n",
       "2      0  STON/O2. 3101282   7.9250   NaN        S  "
      ]
     },
     "execution_count": 24,
     "metadata": {},
     "output_type": "execute_result"
    }
   ],
   "source": [
    "dataset = pd.read_csv(r'C:\\Users\\kysar\\data analysis\\titanic.csv')\n",
    "dataset.head(3)"
   ]
  },
  {
   "cell_type": "markdown",
   "metadata": {},
   "source": [
    "---\n",
    "**Task 1** (1 points) <br/>\n",
    "Answer the following questions:\n",
    "    \n",
    "    * Are there any missing values? In which columns?\n",
    "    * How many classes (pclass) were there on Tinanic?\n",
    "    * What is the percentage of survived passengers? Are the classes balanced?\n",
    "    * What is the average ticket fare?\n",
    "    * What was the most popular port of embarkation?\n",
    "Please, write not only the answers but the code, proving it."
   ]
  },
  {
   "cell_type": "code",
   "execution_count": 34,
   "metadata": {},
   "outputs": [
    {
     "data": {
      "text/plain": [
       "PassengerId      0\n",
       "Survived         0\n",
       "Pclass           0\n",
       "Name             0\n",
       "Sex              0\n",
       "Age            177\n",
       "SibSp            0\n",
       "Parch            0\n",
       "Ticket           0\n",
       "Fare             0\n",
       "Cabin          687\n",
       "Embarked         2\n",
       "dtype: int64"
      ]
     },
     "execution_count": 34,
     "metadata": {},
     "output_type": "execute_result"
    }
   ],
   "source": [
    "dataset.isnull().sum()"
   ]
  },
  {
   "cell_type": "code",
   "execution_count": 32,
   "metadata": {},
   "outputs": [
    {
     "data": {
      "text/plain": [
       "Age         177\n",
       "Cabin       687\n",
       "Embarked      2\n",
       "dtype: int64"
      ]
     },
     "execution_count": 32,
     "metadata": {},
     "output_type": "execute_result"
    }
   ],
   "source": [
    "dataset.isna().sum()[dataset.isna().sum() > 0] "
   ]
  },
  {
   "cell_type": "markdown",
   "metadata": {},
   "source": [
    "Всего есть 3 столбца с пропущенными значениями: Age - 177 пропусков; Cabin - 687 пропусков; Embarked - 2 пропуска"
   ]
  },
  {
   "cell_type": "code",
   "execution_count": 33,
   "metadata": {},
   "outputs": [
    {
     "name": "stdout",
     "output_type": "stream",
     "text": [
      "There were 3 different classes\n"
     ]
    }
   ],
   "source": [
    "print('There were', dataset['Pclass'].nunique(), 'different classes')"
   ]
  },
  {
   "cell_type": "code",
   "execution_count": 35,
   "metadata": {},
   "outputs": [
    {
     "data": {
      "text/plain": [
       "{1, 2, 3}"
      ]
     },
     "execution_count": 35,
     "metadata": {},
     "output_type": "execute_result"
    }
   ],
   "source": [
    "set(dataset['Pclass'])"
   ]
  },
  {
   "cell_type": "code",
   "execution_count": 36,
   "metadata": {},
   "outputs": [
    {
     "name": "stdout",
     "output_type": "stream",
     "text": [
      "Percentage of survived passengers is 0.3838383838383838\n"
     ]
    },
    {
     "data": {
      "text/plain": [
       "Pclass\n",
       "1    0.629630\n",
       "2    0.472826\n",
       "3    0.242363\n",
       "Name: Survived, dtype: float64"
      ]
     },
     "execution_count": 36,
     "metadata": {},
     "output_type": "execute_result"
    }
   ],
   "source": [
    "print('Percentage of survived passengers is', len(dataset[dataset['Survived'] == 1.0])/ dataset['Survived'].count())\n",
    "dataset.groupby('Pclass')['Survived'].mean()"
   ]
  },
  {
   "cell_type": "markdown",
   "metadata": {},
   "source": [
    "Классы несбалансированны. Доля выживших пассажиров из первого класса значительно превышает долю выживших из 2 и 3 класса"
   ]
  },
  {
   "cell_type": "code",
   "execution_count": 37,
   "metadata": {},
   "outputs": [
    {
     "name": "stdout",
     "output_type": "stream",
     "text": [
      "Average ticket fare is 32.2042079685746\n"
     ]
    }
   ],
   "source": [
    "print('Average ticket fare is', dataset['Fare'].mean())"
   ]
  },
  {
   "cell_type": "code",
   "execution_count": 38,
   "metadata": {},
   "outputs": [
    {
     "data": {
      "text/plain": [
       "Embarked\n",
       "C    168\n",
       "Q     77\n",
       "S    644\n",
       "Name: Embarked, dtype: int64"
      ]
     },
     "execution_count": 38,
     "metadata": {},
     "output_type": "execute_result"
    }
   ],
   "source": [
    "dataset.groupby('Embarked')['Embarked'].count()"
   ]
  },
  {
   "cell_type": "markdown",
   "metadata": {},
   "source": [
    "The most popular port of embarkation is S"
   ]
  },
  {
   "cell_type": "markdown",
   "metadata": {},
   "source": [
    "---\n",
    "**Task 2** (1 points) <br/>\n",
    "Find all the titles of the passengers (example, *Capt., Mr.,Mme.*), which are written in the column `Name`, and answer the following questions:\n",
    "\n",
    "    * How many are there unique titles?\n",
    "    * How many are there passengers with every title?\n",
    "    * What is the most popular man's title? And woman's title?\n",
    "    \n",
    "**Hint** You may select the title from the name as a word which contains a dot."
   ]
  },
  {
   "cell_type": "code",
   "execution_count": 39,
   "metadata": {},
   "outputs": [
    {
     "name": "stdout",
     "output_type": "stream",
     "text": [
      "There are 17 unique titles\n"
     ]
    }
   ],
   "source": [
    "dataset[\"Title\"] = dataset[\"Name\"].str.split('[.,]',expand=True)[1]\n",
    "print('There are', dataset.groupby(\"Title\")[\"Title\"].nunique().count(), 'unique titles')"
   ]
  },
  {
   "cell_type": "code",
   "execution_count": 40,
   "metadata": {},
   "outputs": [
    {
     "data": {
      "text/plain": [
       "Title\n",
       " Capt              1\n",
       " Col               2\n",
       " Don               1\n",
       " Dr                7\n",
       " Jonkheer          1\n",
       " Lady              1\n",
       " Major             2\n",
       " Master           40\n",
       " Miss            182\n",
       " Mlle              2\n",
       " Mme               1\n",
       " Mr              517\n",
       " Mrs             125\n",
       " Ms                1\n",
       " Rev               6\n",
       " Sir               1\n",
       " the Countess      1\n",
       "Name: Title, dtype: int64"
      ]
     },
     "execution_count": 40,
     "metadata": {},
     "output_type": "execute_result"
    }
   ],
   "source": [
    "dataset.groupby(\"Title\")[\"Title\"].count()"
   ]
  },
  {
   "cell_type": "code",
   "execution_count": 41,
   "metadata": {},
   "outputs": [
    {
     "data": {
      "text/plain": [
       "Sex     Title        \n",
       "female   Dr                1\n",
       "         Lady              1\n",
       "         Miss            182\n",
       "         Mlle              2\n",
       "         Mme               1\n",
       "         Mrs             125\n",
       "         Ms                1\n",
       "         the Countess      1\n",
       "male     Capt              1\n",
       "         Col               2\n",
       "         Don               1\n",
       "         Dr                6\n",
       "         Jonkheer          1\n",
       "         Major             2\n",
       "         Master           40\n",
       "         Mr              517\n",
       "         Rev               6\n",
       "         Sir               1\n",
       "Name: Sex, dtype: int64"
      ]
     },
     "execution_count": 41,
     "metadata": {},
     "output_type": "execute_result"
    }
   ],
   "source": [
    "dataset.groupby(by=[\"Sex\", \"Title\"])[\"Sex\"].count()"
   ]
  },
  {
   "cell_type": "markdown",
   "metadata": {},
   "source": [
    "The most popular man's title is **Mr**\n",
    "<br>\n",
    "The most popular woman's title is **Miss**"
   ]
  },
  {
   "cell_type": "markdown",
   "metadata": {},
   "source": [
    "---\n",
    "**Task 3** (0.5 points) <br/>\n",
    "Visualize age distribution (you may use a histogram, for example). \n",
    "\n",
    "    * What is the minimal and maximum ages of the passengers? Visualize it on the plot\n",
    "    * What is the mean age? Visualize it on the plot\n",
    "    * Make conclusions about what you see on the plot"
   ]
  },
  {
   "cell_type": "code",
   "execution_count": 54,
   "metadata": {},
   "outputs": [
    {
     "data": {
      "text/plain": [
       "<AxesSubplot:ylabel='Frequency'>"
      ]
     },
     "execution_count": 54,
     "metadata": {},
     "output_type": "execute_result"
    },
    {
     "data": {
      "image/png": "[encoded data removed]",
      "text/plain": [
       "<Figure size 432x288 with 1 Axes>"
      ]
     },
     "metadata": {
      "needs_background": "light"
     },
     "output_type": "display_data"
    }
   ],
   "source": [
    "dataset['Age'].sort_index().plot(kind='hist', legend = True)"
   ]
  },
  {
   "cell_type": "markdown",
   "metadata": {},
   "source": [
    "The minimal and maximum ages of the passengers are 0.42 and 80 respectively"
   ]
  },
  {
   "cell_type": "code",
   "execution_count": 43,
   "metadata": {},
   "outputs": [
    {
     "data": {
      "text/plain": [
       "<matplotlib.lines.Line2D at 0x2232ba240a0>"
      ]
     },
     "execution_count": 43,
     "metadata": {},
     "output_type": "execute_result"
    },
    {
     "data": {
      "image/png": "[encoded data removed]",
      "text/plain": [
       "<Figure size 432x288 with 1 Axes>"
      ]
     },
     "metadata": {
      "needs_background": "light"
     },
     "output_type": "display_data"
    }
   ],
   "source": [
    "ax = dataset['Age'].sort_index().plot(kind='hist')\n",
    "ax.axvline(dataset[\"Age\"].mean(), color=\"red\", linestyle=\"dashed\",linewidth=2)"
   ]
  },
  {
   "cell_type": "code",
   "execution_count": 44,
   "metadata": {},
   "outputs": [
    {
     "name": "stdout",
     "output_type": "stream",
     "text": [
      "Mean value is 29.69911764705882\n"
     ]
    }
   ],
   "source": [
    "print(\"Mean value is\", dataset[\"Age\"].mean())"
   ]
  },
  {
   "cell_type": "markdown",
   "metadata": {},
   "source": [
    "По гистограмме понимаем, что минимальный возраст пассажира - меньше 1 года (0.42), а максимальный - 80\n",
    "<br>\n",
    "Среднее значение возраста - около 30 лет\n",
    "<br>\n",
    "Распределение возраста было бы похоже на нормальное, но детей до 7-8 лет больше, чем пассажиров от около 8 до примерно 18\n",
    "<br>\n",
    "Также видно, что больше всего пассажиров в возрасте приблизительно 20-30 лет (24 - самый популярный возраст)\n",
    "<br>\n",
    "Детей на корабле в возрасте до 10 лет больше, чем пожилых пассажиров в возрасте от 65"
   ]
  },
  {
   "cell_type": "markdown",
   "metadata": {},
   "source": [
    "---\n",
    "**Task 4** (0.5 points) <br/>\n",
    "Visualize age distribution for survived and not survived passengers separately and calculate the mean age for each class. Are they different? Make conclusions about what you see on the plot"
   ]
  },
  {
   "cell_type": "code",
   "execution_count": 78,
   "metadata": {},
   "outputs": [
    {
     "data": {
      "text/plain": [
       "<AxesSubplot:ylabel='Frequency'>"
      ]
     },
     "execution_count": 78,
     "metadata": {},
     "output_type": "execute_result"
    },
    {
     "data": {
      "image/png": "[encoded data removed]",
      "text/plain": [
       "<Figure size 432x288 with 1 Axes>"
      ]
     },
     "metadata": {
      "needs_background": "light"
     },
     "output_type": "display_data"
    }
   ],
   "source": [
    "survived = dataset[dataset[\"Survived\"] == 1]\n",
    "\n",
    "survived['Age'].sort_index().plot(kind='hist', legend = True)"
   ]
  },
  {
   "cell_type": "code",
   "execution_count": 84,
   "metadata": {},
   "outputs": [
    {
     "data": {
      "text/plain": [
       "<AxesSubplot:ylabel='Frequency'>"
      ]
     },
     "execution_count": 84,
     "metadata": {},
     "output_type": "execute_result"
    },
    {
     "data": {
      "image/png": "[encoded data removed]",
      "text/plain": [
       "<Figure size 432x288 with 1 Axes>"
      ]
     },
     "metadata": {
      "needs_background": "light"
     },
     "output_type": "display_data"
    }
   ],
   "source": [
    "not_survived = dataset[dataset[\"Survived\"] == 0]\n",
    "not_survived['Age'].sort_index().plot(kind='hist', legend = True)"
   ]
  },
  {
   "cell_type": "markdown",
   "metadata": {},
   "source": [
    "По гистограмме видно, что возраст выживших и невыживших пассажиров распределён по-разному\n",
    "<br>\n",
    "Например, среди выживших пассажиров немаленькую долю составляют дети до 10 лет\n",
    "<br>\n",
    "Невыживших детей намного меньше, чем детей, которые всё-таки спаслись\n",
    "<br>\n",
    "Также среди выживших есть люди в возрасте от около 72 до 80, и в это же время нет невыживших в возрасте более ~ 75\n",
    "<br>\n",
    "В возрасте от 30 до 40 скорее больше выживших, чем невыживших\n",
    "<br>\n",
    "Также видно, что 1 гистограмма прерывается в возрасте от ~64 до ~72, а 2 гистограмма непрерывна => пассажирам в данном диапазоне возраста не удалось спастись\n",
    "<br>\n",
    "Среди выживших больше всего пассажиров в возрасте ~ 20-30 лет\n",
    "<br>\n",
    "В то же время и среди невыживших пассажиров люди от 20 до 30 лет - самая многочисленная группа\n",
    "<br>\n",
    "(дело в том, что это в целом самая многочисленная группа)"
   ]
  },
  {
   "cell_type": "markdown",
   "metadata": {},
   "source": [
    "---\n",
    "**Task 5** (0.5 points) <br/>\n",
    "Is there correlation between the port of embarkation and the ticket price? Calculate mean price for each port and visualize price distribution for each port. Make conclusions about what you see on the plot\n",
    "\n",
    "Hint: you could make one or several plot types i.e.  box, violine, pair, histogram (see additional notebooks for Seminar 1 \"Visualization with Seaborn\"). The main point here is to **choose** plots wisely and **make meaningful conclusions**\n",
    "\n"
   ]
  },
  {
   "cell_type": "code",
   "execution_count": 93,
   "metadata": {},
   "outputs": [
    {
     "data": {
      "text/plain": [
       "array(['S', 'C', 'Q', nan], dtype=object)"
      ]
     },
     "execution_count": 93,
     "metadata": {},
     "output_type": "execute_result"
    }
   ],
   "source": [
    "dataset.Embarked.unique()"
   ]
  },
  {
   "cell_type": "code",
   "execution_count": 96,
   "metadata": {},
   "outputs": [
    {
     "name": "stdout",
     "output_type": "stream",
     "text": [
      "Mean ticket price for the port S is 27.08\n",
      "Mean ticket price for the port C is 59.95\n",
      "Mean ticket price for the port Q is 13.28\n"
     ]
    }
   ],
   "source": [
    "print('Mean ticket price for the port S is', np.round(dataset[dataset[\"Embarked\"] == 'S'][\"Fare\"].mean(), 2))\n",
    "print('Mean ticket price for the port C is', np.round(dataset[dataset[\"Embarked\"] == 'C'][\"Fare\"].mean(), 2))\n",
    "print('Mean ticket price for the port Q is', np.round(dataset[dataset[\"Embarked\"] == 'Q'][\"Fare\"].mean(), 2))"
   ]
  },
  {
   "cell_type": "code",
   "execution_count": 128,
   "metadata": {},
   "outputs": [
    {
     "data": {
      "image/png": "[encoded data removed]",
      "text/plain": [
       "<Figure size 432x288 with 1 Axes>"
      ]
     },
     "metadata": {
      "needs_background": "light"
     },
     "output_type": "display_data"
    }
   ],
   "source": [
    "port_S = dataset[dataset[\"Embarked\"] == 'S'][\"Fare\"]\n",
    "plt.hist(port_S, bins=10)\n",
    "plt.title('Distribution of ticket prices for the port S')\n",
    "plt.xlabel(\"Price\")\n",
    "plt.ylabel(\"Quantity\")\n",
    "plt.show()"
   ]
  },
  {
   "cell_type": "code",
   "execution_count": 126,
   "metadata": {},
   "outputs": [
    {
     "data": {
      "image/png": "[encoded data removed]",
      "text/plain": [
       "<Figure size 432x288 with 1 Axes>"
      ]
     },
     "metadata": {
      "needs_background": "light"
     },
     "output_type": "display_data"
    }
   ],
   "source": [
    "port_C = dataset[dataset[\"Embarked\"] == 'C'][\"Fare\"]\n",
    "plt.hist(port_C, bins=10)\n",
    "plt.title('Distribution of ticket prices for the port C')\n",
    "plt.xlabel(\"Price\")\n",
    "plt.ylabel(\"Quantity\")\n",
    "plt.show()"
   ]
  },
  {
   "cell_type": "code",
   "execution_count": 124,
   "metadata": {},
   "outputs": [
    {
     "data": {
      "image/png": "[encoded data removed]",
      "text/plain": [
       "<Figure size 432x288 with 1 Axes>"
      ]
     },
     "metadata": {
      "needs_background": "light"
     },
     "output_type": "display_data"
    }
   ],
   "source": [
    "port_Q = dataset[dataset[\"Embarked\"] == 'Q'][\"Fare\"]\n",
    "plt.hist(port_Q, bins=10)\n",
    "plt.title('Distribution of ticket prices for the port Q')\n",
    "plt.xlabel(\"Price\")\n",
    "plt.ylabel(\"Quantity\")\n",
    "plt.show()"
   ]
  },
  {
   "cell_type": "markdown",
   "metadata": {},
   "source": [
    "Корреляция между ценой и портом есть, что можно видеть из построенных гистограмм\n",
    "<br>\n",
    "Прежде всего, отличаются средние значения, максимальные и минимальные цены билетов в зависимости от порта\n",
    "<br>\n",
    "Для порта S среднее около 27, наибольшее значение - в районе 260, наименьшее - 0\n",
    "<br>\n",
    "Для порта C соответствующие значения: ~60, ~510, ~3-4\n",
    "<br>\n",
    "И для порта Q: ~13, ~85-90, ~5-7\n",
    "<br>\n",
    "Для порта S распределение цены более \"гладкое\", чем для других портов, на гистограммах которых видны разрывы, из чего можно сделать вывод, что цена для порта S была более \"стабильной\" (примерно одинаковой для большего количества людей)\n",
    "<br>\n",
    "Для порта C видно два разрыва, то есть были пассажиры, купившие билет по очень разным ценам\n",
    "<br>\n",
    "Для порта Q виден один разрыв, но разница в максимальной и минимальной цене за билет не такая большая, как для порта C"
   ]
  },
  {
   "cell_type": "markdown",
   "metadata": {},
   "source": [
    "---\n",
    "**Task 6** (0.5 points) <br/>\n",
    "The same question as in task 5 about correlation between *pclass* and *ticket priсe*."
   ]
  },
  {
   "cell_type": "code",
   "execution_count": 131,
   "metadata": {},
   "outputs": [
    {
     "data": {
      "text/plain": [
       "[3, 1, 2]"
      ]
     },
     "execution_count": 131,
     "metadata": {},
     "output_type": "execute_result"
    }
   ],
   "source": [
    "dataset.Pclass.unique().tolist()"
   ]
  },
  {
   "cell_type": "code",
   "execution_count": 132,
   "metadata": {},
   "outputs": [],
   "source": [
    "class_1 = dataset[dataset[\"Pclass\"] == 1][\"Fare\"]\n",
    "class_2 = dataset[dataset[\"Pclass\"] == 2][\"Fare\"]\n",
    "class_3 = dataset[dataset[\"Pclass\"] == 3][\"Fare\"]"
   ]
  },
  {
   "cell_type": "code",
   "execution_count": 164,
   "metadata": {},
   "outputs": [
    {
     "name": "stdout",
     "output_type": "stream",
     "text": [
      "Mean ticket price for the 1st class 84.15\n",
      "Mean ticket price for the 2nd class 20.66\n",
      "Mean ticket price for the 3rd class 13.68\n"
     ]
    }
   ],
   "source": [
    "print('Mean ticket price for the 1st class', np.round(class_1.mean(), 2))\n",
    "print('Mean ticket price for the 2nd class', np.round(class_2.mean(), 2))\n",
    "print('Mean ticket price for the 3rd class', np.round(class_3.mean(), 2))"
   ]
  },
  {
   "cell_type": "code",
   "execution_count": 138,
   "metadata": {},
   "outputs": [
    {
     "data": {
      "image/png": "[encoded data removed]",
      "text/plain": [
       "<Figure size 432x288 with 1 Axes>"
      ]
     },
     "metadata": {
      "needs_background": "light"
     },
     "output_type": "display_data"
    }
   ],
   "source": [
    "plt.hist(class_1, bins=10)\n",
    "plt.title('Distribution of ticket prices for the passengers of the first class')\n",
    "plt.xlabel(\"Price\")\n",
    "plt.ylabel(\"Quantity\")\n",
    "plt.axvline(class_1.mean(), color='red', linestyle='dashed', linewidth=1)\n",
    "plt.show()"
   ]
  },
  {
   "cell_type": "code",
   "execution_count": 139,
   "metadata": {},
   "outputs": [
    {
     "data": {
      "image/png": "[encoded data removed]",
      "text/plain": [
       "<Figure size 432x288 with 1 Axes>"
      ]
     },
     "metadata": {
      "needs_background": "light"
     },
     "output_type": "display_data"
    }
   ],
   "source": [
    "plt.hist(class_2, bins=10)\n",
    "plt.title('Distribution of ticket prices for the passengers of the second class')\n",
    "plt.xlabel(\"Price\")\n",
    "plt.ylabel(\"Quantity\")\n",
    "plt.axvline(class_2.mean(), color='red', linestyle='dashed', linewidth=1)\n",
    "plt.show()"
   ]
  },
  {
   "cell_type": "code",
   "execution_count": 140,
   "metadata": {},
   "outputs": [
    {
     "data": {
      "image/png": "[encoded data removed]",
      "text/plain": [
       "<Figure size 432x288 with 1 Axes>"
      ]
     },
     "metadata": {
      "needs_background": "light"
     },
     "output_type": "display_data"
    }
   ],
   "source": [
    "plt.hist(class_3, bins=10)\n",
    "plt.title('Distribution of ticket prices for the passengers of the third class')\n",
    "plt.xlabel(\"Price\")\n",
    "plt.ylabel(\"Quantity\")\n",
    "plt.axvline(class_3.mean(), color='red', linestyle='dashed', linewidth=1)\n",
    "plt.show()"
   ]
  },
  {
   "cell_type": "markdown",
   "metadata": {},
   "source": [
    "По построенным гистограммам чётко видно, что цена и класс взаимосвязанны\n",
    "<br>\n",
    "Прежде всего, чем выше класс (1- самый высокий, 3 - самый низкий), тем больше средняя цена билета (на гистограммах средней цене соответствует красная пунктирная линия)\n",
    "<br>\n",
    "Также видно, что максимальная цена билета за 1 класс намного выше максимальной цены за 2 и 3 класс\n",
    "<br>\n",
    "При этом минимальная стоимость билетов везде одинаковая и равна 0\n",
    "<br>\n",
    "Также можно отметить, что разница в стоимости билетов наибольшая для 1 класса (между максимальной и минимальной, а также между максимальной и средней ценой за билет)"
   ]
  },
  {
   "cell_type": "code",
   "execution_count": 136,
   "metadata": {},
   "outputs": [
    {
     "data": {
      "text/plain": [
       "-0.5494996199439078"
      ]
     },
     "execution_count": 136,
     "metadata": {},
     "output_type": "execute_result"
    }
   ],
   "source": [
    "dataset.Pclass.corr(dataset.Fare)"
   ]
  },
  {
   "cell_type": "markdown",
   "metadata": {},
   "source": [
    "Можно убедиться, что коррелляция между двумя факторами есть, и она отрицательная\n",
    "<br>\n",
    "Чем меньше по значению номер класса, тем выше цена"
   ]
  }
 ],
 "metadata": {
  "kernelspec": {
   "display_name": "Python 3 (ipykernel)",
   "language": "python",
   "name": "python3"
  },
  "language_info": {
   "codemirror_mode": {
    "name": "ipython",
    "version": 3
   },
   "file_extension": ".py",
   "mimetype": "text/x-python",
   "name": "python",
   "nbconvert_exporter": "python",
   "pygments_lexer": "ipython3",
   "version": "3.8.9"
  }
 },
 "nbformat": 4,
 "nbformat_minor": 4
}
