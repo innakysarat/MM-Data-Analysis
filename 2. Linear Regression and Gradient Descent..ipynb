{
 "cells": [
  {
   "cell_type": "markdown",
   "metadata": {},
   "source": [
    "# HSE 2021: Mathematical Methods for Data Analysis\n",
    "\n",
    "## Homework 2\n",
    "\n",
    "### Attention!\n",
    "* For tasks where <ins>text answer</ins> is required **Russian language** is **allowed**.\n",
    "* If a task asks you to describe something (make coclusions) then **text answer** is **mandatory** and **is** part of the task\n",
    "* We **only** accept **ipynb** notebooks. If you use Google Colab then you'll have to download the notebook before passing the homework\n",
    "* **Do not** use python loops instead of NumPy vector operations over NumPy vectors - it significantly decreases performance (see why https://blog.paperspace.com/numpy-optimization-vectorization-and-broadcasting/), will be punished with -0.25 for **every** task. "
   ]
  },
  {
   "cell_type": "code",
   "execution_count": 47,
   "metadata": {
    "ExecuteTime": {
     "end_time": "2020-09-26T16:48:20.566549Z",
     "start_time": "2020-09-26T16:48:19.893995Z"
    }
   },
   "outputs": [],
   "source": [
    "import pandas as pd\n",
    "import numpy as np\n",
    "import matplotlib.pyplot as plt\n",
    "import seaborn as sns\n",
    "import sklearn\n",
    "from sklearn import datasets\n",
    "from sklearn.datasets import load_boston\n",
    "\n",
    "%matplotlib inline\n",
    "\n",
    "sns.set(style=\"darkgrid\")"
   ]
  },
  {
   "cell_type": "markdown",
   "metadata": {},
   "source": [
    "### Data\n",
    "\n",
    "For this homework we use Boston Dataset from sklearn (based on UCI ML housing dataset)."
   ]
  },
  {
   "cell_type": "code",
   "execution_count": 204,
   "metadata": {},
   "outputs": [],
   "source": [
    "data = load_boston() # load dataset\n",
    "\n",
    "X = data.data\n",
    "y = data.target\n",
    "columns = data.feature_names"
   ]
  },
  {
   "cell_type": "markdown",
   "metadata": {},
   "source": [
    "## Linear regression"
   ]
  },
  {
   "cell_type": "markdown",
   "metadata": {},
   "source": [
    "#### 1. [0.5 points] \n",
    "Create Pandas DataFrame and split the data into train and test sets with ratio 80:20 with random_state=0."
   ]
  },
  {
   "cell_type": "code",
   "execution_count": 49,
   "metadata": {},
   "outputs": [],
   "source": [
    "from sklearn.model_selection import train_test_split\n",
    "boston = pd.DataFrame(X, columns=columns)\n",
    "X_train, X_test, Y_train, Y_test = train_test_split(X, y, test_size = 0.2, random_state=0)"
   ]
  },
  {
   "cell_type": "markdown",
   "metadata": {},
   "source": [
    "---\n",
    "#### 2. [1 point] \n",
    "Train models on train data using StatsModels( or sckit-learn) library and apply it to the test set; use $RMSE$ and $R^2$ as the quality measure.\n",
    "\n",
    "* [`LinearRegression`](http://scikit-learn.org/stable/modules/generated/sklearn.linear_model.LinearRegression.html);\n",
    "* [`Ridge`](http://scikit-learn.org/stable/modules/generated/sklearn.linear_model.Ridge.html) with $\\alpha = 0.01$;\n",
    "* [`Lasso`](http://scikit-learn.org/stable/modules/generated/sklearn.linear_model.Lasso.html) with $\\alpha = 0.01$\n",
    "\n",
    "Don't forget to scale the data before training the models with StandardScaler!"
   ]
  },
  {
   "cell_type": "code",
   "execution_count": 50,
   "metadata": {},
   "outputs": [],
   "source": [
    "from sklearn.preprocessing import StandardScaler\n",
    "\n",
    "scaler = StandardScaler()\n",
    "X_train_scaled = scaler.fit_transform(X_train)\n",
    "X_test_scaled = scaler.transform(X_test)"
   ]
  },
  {
   "cell_type": "code",
   "execution_count": 54,
   "metadata": {},
   "outputs": [
    {
     "name": "stdout",
     "output_type": "stream",
     "text": [
      "Linear Regression\n",
      "______________________________________\n",
      "\n",
      "The model performance for testing set\n",
      "--------------------------------------\n",
      "RMSE = 5.7835\n",
      "R2 score = 0.5892\n"
     ]
    }
   ],
   "source": [
    "from sklearn.linear_model import LinearRegression\n",
    "from sklearn.metrics import mean_squared_error, r2_score\n",
    "import statsmodels.api as sm\n",
    "\n",
    "X_train_scaled = sm.add_constant(X_train_scaled)\n",
    "model = sm.OLS(Y_train, X_train_scaled)\n",
    "results = model.fit()\n",
    "\n",
    "X_test_scaled = sm.add_constant(X_test_scaled)\n",
    "y_test_predict = results.predict(X_test_scaled)\n",
    "rmse = (np.sqrt(mean_squared_error(Y_test, y_test_predict)))\n",
    "r2 = r2_score(Y_test, y_test_predict)\n",
    "\n",
    "print(\"Linear Regression\")\n",
    "print(\"______________________________________\\n\")\n",
    "print(\"The model performance for testing set\")\n",
    "print(\"--------------------------------------\")\n",
    "print(\"RMSE = %.4f\" % rmse)\n",
    "print(\"R2 score = %.4f\" % r2)"
   ]
  },
  {
   "cell_type": "code",
   "execution_count": 60,
   "metadata": {},
   "outputs": [
    {
     "name": "stdout",
     "output_type": "stream",
     "text": [
      "Ridge\n",
      "______________________________________\n",
      "\n",
      "The model performance for testing set\n",
      "--------------------------------------\n",
      "RMSE = 5.8270\n",
      "R2 score = 0.5830\n"
     ]
    }
   ],
   "source": [
    "from sklearn.linear_model import Ridge\n",
    "\n",
    "model = sm.OLS(Y_train, X_train_scaled)\n",
    "ridge_results = model.fit_regularized(alpha=0.01, L1_wt=0)\n",
    "\n",
    "print(\"Ridge\")\n",
    "print(\"______________________________________\\n\")\n",
    "\n",
    "y_test_predict = ridge_results.predict(X_test_scaled)\n",
    "rmse = (np.sqrt(mean_squared_error(Y_test, y_test_predict)))\n",
    "r2 = r2_score(Y_test, y_test_predict)\n",
    "\n",
    "print(\"The model performance for testing set\")\n",
    "print(\"--------------------------------------\")\n",
    "print(\"RMSE = %.4f\" % rmse)\n",
    "print(\"R2 score = %.4f\" % r2)"
   ]
  },
  {
   "cell_type": "code",
   "execution_count": 61,
   "metadata": {},
   "outputs": [
    {
     "name": "stdout",
     "output_type": "stream",
     "text": [
      "Lasso\n",
      "______________________________________\n",
      "\n",
      "The model performance for testing set\n",
      "--------------------------------------\n",
      "RMSE is = 5.7962\n",
      "R2 score is = 0.5874\n"
     ]
    }
   ],
   "source": [
    "from sklearn.linear_model import Lasso\n",
    "\n",
    "model = sm.OLS(Y_train, X_train_scaled)\n",
    "lasso_results = model.fit_regularized(alpha=0.01, L1_wt=1)\n",
    "\n",
    "print(\"Lasso\")\n",
    "print(\"______________________________________\\n\")\n",
    "\n",
    "y_test_predict = lasso_results.predict(X_test_scaled)\n",
    "rmse = (np.sqrt(mean_squared_error(Y_test, y_test_predict)))\n",
    "r2 = r2_score(Y_test, y_test_predict)\n",
    "\n",
    "print(\"The model performance for testing set\")\n",
    "print(\"--------------------------------------\")\n",
    "print(\"RMSE is = %.4f\" % rmse)\n",
    "print(\"R2 score is = %.4f\" % r2)"
   ]
  },
  {
   "cell_type": "markdown",
   "metadata": {},
   "source": [
    "---\n",
    "#### 3. [1 point] \n",
    "Explore the values of the parameters of the resulting models and compare the number of zero weights in them. \n",
    "\n",
    "Comment on the significance of the coefficients, overal model significance and other related factors from the results table. \n",
    "\n",
    "`Hint` Use StatModels to obtain significance of the coefficients. They ca be found on the `summary` of the fitted linear model. \n",
    "It might be tricky to obtain `summary` for the regularized model. Please, read the documentation of the StatModels library to figure out how to do that, e.g.   [OLSResults](https://www.statsmodels.org/stable/generated/statsmodels.regression.linear_model.OLSResults.html#statsmodels.regression.linear_model.OLSResults) class might be useful here."
   ]
  },
  {
   "cell_type": "code",
   "execution_count": 62,
   "metadata": {},
   "outputs": [
    {
     "name": "stdout",
     "output_type": "stream",
     "text": [
      "[22.61188119 -0.97082019  1.05714873  0.03831099  0.59450642 -1.8551476\n",
      "  2.57321942 -0.08761547 -2.88094259  2.11224542 -1.87533131 -2.29276735\n",
      "  0.71817947 -3.59245482]\n",
      "[22.38800118 -0.9389153   0.9964658  -0.05759679  0.60978151 -1.72221088\n",
      "  2.61200412 -0.11553458 -2.75390827  1.83481449 -1.6264754  -2.25612295\n",
      "  0.71882981 -3.52865629]\n",
      "[22.60188119 -0.94032071  1.02149689  0.          0.59478962 -1.80291733\n",
      "  2.58516537 -0.06898551 -2.80847418  1.95673449 -1.73917996 -2.27880622\n",
      "  0.70557048 -3.59691505]\n"
     ]
    }
   ],
   "source": [
    "print(results.params)\n",
    "print(ridge_results.params)\n",
    "print(lasso_results.params)"
   ]
  },
  {
   "cell_type": "markdown",
   "metadata": {},
   "source": [
    "Видно, что у всех 3 методов обучения (то есть методов fit) веса регрессеров достаточно похожи между собой. Также видно, что нулевое значение имеет только третий параметр в Lasso, кроме того, близкие к нулю значения имеют параметры 3 и 7 для всех моделей. Так как перед началом обучения мы все данные масштабировали, то это скорее всего связано с незначимостью данных регрессеров."
   ]
  },
  {
   "cell_type": "markdown",
   "metadata": {},
   "source": [
    "---\n",
    "#### 4. [1 point] \n",
    "Implement one of the elimination algorithms that were described in the Seminar_4 (Elimination by P-value, Forward elimination, Backward elimination), make conclusions. \n",
    "It's enough to apply to one of the models above (e.g simple linear regression)"
   ]
  },
  {
   "cell_type": "code",
   "execution_count": 208,
   "metadata": {},
   "outputs": [
    {
     "name": "stdout",
     "output_type": "stream",
     "text": [
      "                 Results: Ordinary least squares\n",
      "==================================================================\n",
      "Model:              OLS              Adj. R-squared:     0.735    \n",
      "Dependent Variable: y                AIC:                3021.7264\n",
      "Date:               2021-10-12 02:58 BIC:                3072.4448\n",
      "No. Observations:   506              Log-Likelihood:     -1498.9  \n",
      "Df Model:           11               F-statistic:        128.2    \n",
      "Df Residuals:       494              Prob (F-statistic): 5.54e-137\n",
      "R-squared:          0.741            Scale:              22.432   \n",
      "--------------------------------------------------------------------\n",
      "           Coef.    Std.Err.      t       P>|t|     [0.025    0.975]\n",
      "--------------------------------------------------------------------\n",
      "const     22.5328     0.2106   107.0181   0.0000   22.1191   22.9465\n",
      "x1        -0.9316     0.2817    -3.3074   0.0010   -1.4850   -0.3782\n",
      "x2         1.0682     0.3151     3.3902   0.0008    0.4491    1.6872\n",
      "x3         0.6899     0.2168     3.1826   0.0016    0.2640    1.1157\n",
      "x4        -2.0115     0.4093    -4.9151   0.0000   -2.8156   -1.2074\n",
      "x5         2.6684     0.2852     9.3562   0.0000    2.1081    3.2288\n",
      "x6        -3.1401     0.3907    -8.0370   0.0000   -3.9078   -2.3725\n",
      "x7         2.6062     0.5515     4.7255   0.0000    1.5226    3.6898\n",
      "x8        -1.9831     0.5678    -3.4925   0.0005   -3.0987   -0.8675\n",
      "x9        -2.0471     0.2791    -7.3337   0.0000   -2.5956   -1.4987\n",
      "x10        0.8474     0.2439     3.4746   0.0006    0.3682    1.3265\n",
      "x11       -3.7279     0.3383   -11.0187   0.0000   -4.3926   -3.0632\n",
      "------------------------------------------------------------------\n",
      "Omnibus:             178.430       Durbin-Watson:          1.078  \n",
      "Prob(Omnibus):       0.000         Jarque-Bera (JB):       787.785\n",
      "Skew:                1.523         Prob(JB):               0.000  \n",
      "Kurtosis:            8.300         Condition No.:          8      \n",
      "==================================================================\n",
      "\n",
      "[[ 1.         -0.41978194  0.28482986 ... -1.45900038  0.44105193\n",
      "  -1.0755623 ]\n",
      " [ 1.         -0.41733926 -0.48772236 ... -0.30309415  0.44105193\n",
      "  -0.49243937]\n",
      " [ 1.         -0.41734159 -0.48772236 ... -0.30309415  0.39642699\n",
      "  -1.2087274 ]\n",
      " ...\n",
      " [ 1.         -0.41344658 -0.48772236 ...  1.17646583  0.44105193\n",
      "  -0.98304761]\n",
      " [ 1.         -0.40776407 -0.48772236 ...  1.17646583  0.4032249\n",
      "  -0.86530163]\n",
      " [ 1.         -0.41500016 -0.48772236 ...  1.17646583  0.44105193\n",
      "  -0.66905833]]\n"
     ]
    }
   ],
   "source": [
    "import statsmodels.api as sm\n",
    "\n",
    "scaler = StandardScaler()\n",
    "X = data.data\n",
    "X_scaled = scaler.fit_transform(X)\n",
    "X_scaled = sm.add_constant(X_scaled)\n",
    "\n",
    "def backward_elimination(X, y, significance_level=0.05):\n",
    "\n",
    "    while(True):\n",
    "        regressor = sm.OLS(y, X).fit()\n",
    "        index = np.argmax(regressor.pvalues)\n",
    "        max_p_value = regressor.pvalues[index]\n",
    "        if max_p_value > significance_level:\n",
    "            X = np.delete(X, index, axis=1)\n",
    "        else:\n",
    "            print(regressor.summary2())\n",
    "            return X\n",
    "        \n",
    "print(backward_elimination(X_scaled, y))"
   ]
  },
  {
   "cell_type": "markdown",
   "metadata": {},
   "source": [
    "Из полученного summary мы видим, что осталось всего 11 регрессов из начальных 13, а значит, есть 2 регрессора незначимых, которые можно удалить"
   ]
  },
  {
   "cell_type": "markdown",
   "metadata": {},
   "source": [
    "---\n",
    "#### 5. [1 point] \n",
    "Find the best (in terms of RMSE) $\\alpha$ for Ridge regression using cross-validation with 5 folds. You must select values from range $[10^{-4}, 10^{3}]$."
   ]
  },
  {
   "cell_type": "code",
   "execution_count": 98,
   "metadata": {},
   "outputs": [
    {
     "name": "stdout",
     "output_type": "stream",
     "text": [
      "Best alpha = 7.5646\n"
     ]
    }
   ],
   "source": [
    "from sklearn.model_selection import GridSearchCV\n",
    "\n",
    "alphas = np.logspace(-4, 3, 100)\n",
    "searcher = GridSearchCV(Ridge(), [{\"alpha\": alphas}], scoring = \"neg_root_mean_squared_error\")\n",
    "searcher.fit(X_train_scaled, Y_train)\n",
    "\n",
    "best_alpha = searcher.best_params_[\"alpha\"]\n",
    "print(\"Best alpha = %.4f\" % best_alpha)"
   ]
  },
  {
   "cell_type": "markdown",
   "metadata": {},
   "source": [
    "---\n",
    "## Gradient descent\n",
    "\n",
    "#### 6. [3.5 points] \n",
    "**Implement a linear regression model for the MSE loss function, trained by gradient descent.**\n",
    "\n",
    "All calculations must be vectorized, and python loops can only be used for gradient descent iterations. As a stop criterion, you must use (simultaneously):\n",
    "\n",
    "* checking for the Euclidean norm of the weight difference on two adjacent iterations (for example, less than some small number of the order of $10^{-6}$, set by the `tolerance` parameter);\n",
    "* reaching the maximum number of iterations (for example, 10000, set by the `max_iter` parameter).\n",
    "\n",
    "You need to implement:\n",
    "\n",
    "* Full gradient descent:\n",
    "\n",
    "$$\n",
    "w_{k + 1} = w_{k} - \\eta_{k} \\nabla_{w} Q(w_{k}).\n",
    "$$\n",
    "\n",
    "* Stochastic Gradient Descent:\n",
    "\n",
    "$$\n",
    "w_{k + 1} = w_{k} - \\eta_{k} \\nabla_{w} q_{i_{k}}(w_{k}).\n",
    "$$\n",
    "\n",
    "$\\nabla_{w} q_{i_{k}}(w_{k}) \\, $ is the estimate of the gradient over the batch of objects selected randomly.\n",
    "\n",
    "* Momentum method:\n",
    "\n",
    "$$\n",
    "h_0 = 0, \\\\\n",
    "h_{k + 1} = \\alpha h_{k} + \\eta_k \\nabla_{w} q_{i_{k}} (w_{k}), \\\\\n",
    "w_{k + 1} = w_{k} - h_{k + 1}.\n",
    "$$\n",
    "\n",
    "Exponentially weighed averages can provide a better estimate which is closer to the actual gradient.\n",
    "\n",
    "\n",
    "To make sure that the optimization process really converges, we will use the `loss_history` class attribute. After calling the `fit` method, it should contain the values of the loss function for all iterations, starting from the first one (before the first step on the anti-gradient).\n",
    "\n",
    "You need to initialize the weights with a zero or random (from a normal distribution) vector. The following is a template class that needs to contain the code implementing all variations of the models."
   ]
  },
  {
   "cell_type": "code",
   "execution_count": 166,
   "metadata": {},
   "outputs": [],
   "source": [
    "from sklearn.base import BaseEstimator\n",
    "\n",
    "class LinReg(BaseEstimator):\n",
    "    def __init__(self, delta=1.0, gd_type='Momentum', \n",
    "                 tolerance=1e-4, max_iter=1000, w0=None, eta=1e-2, alpha=1e-3):\n",
    "        \"\"\"\n",
    "        gd_type: str\n",
    "            'GradientDescent', 'StochasticDescent', 'Momentum'\n",
    "        delta: float\n",
    "            proportion of object in a batch (fot stochastic GD)\n",
    "        tolerance: float\n",
    "            for stopping gradient descent\n",
    "        max_iter: int\n",
    "            maximum number of steps in gradient descent\n",
    "        w0: np.array of shape (d)\n",
    "            init weights\n",
    "        eta: float\n",
    "            learning rate\n",
    "        alpha: float\n",
    "            momentum coefficient\n",
    "        \"\"\"\n",
    "        \n",
    "        self.gd_type = gd_type\n",
    "        self.delta = delta\n",
    "        self.tolerance = tolerance\n",
    "        self.max_iter = max_iter\n",
    "        self.w0 = w0\n",
    "        if w0 is None:\n",
    "            self.w0 = np.zeros(X.shape[1]+1)\n",
    "        self.alpha = alpha\n",
    "        self.w = None\n",
    "        self.eta = eta\n",
    "        self.loss_history = None # list of loss function values at each training iteration\n",
    "    \n",
    "    def fit(self, X, y):\n",
    "        \"\"\"\n",
    "        X: np.array of shape (l, d)\n",
    "        y: np.array of shape (l)\n",
    "        ---\n",
    "        output: self\n",
    "        \"\"\"\n",
    "        \n",
    "        self.loss_history = []\n",
    "        self.w = self.w0\n",
    "        h = 0\n",
    "        \n",
    "        for step in range(self.max_iter):\n",
    "            \n",
    "            if self.gd_type == 'GradientDescent':\n",
    "                w_curr = self.w - self.eta * self.calc_gradient(X, y)\n",
    "            \n",
    "            elif self.gd_type == 'StochasticDescent':\n",
    "                indices = np.random.randint(0, high=y.shape[0]-1, size=int(self.delta*size))\n",
    "                X_ind = np.take(X, indices, axis=0)\n",
    "                y_ind = np.take(y, indices)\n",
    "                w_curr = self.w - self.eta * self.calc_gradient(X_ind, y_ind)\n",
    "                \n",
    "            elif self.gd_type == 'Momentum':\n",
    "                h = self.alpha * h + self.eta * self.calc_gradient(X, y)\n",
    "                w_curr = self.w - h\n",
    "                \n",
    "            else:\n",
    "                raise Exception('Unsupported type')\n",
    "            \n",
    "            if (np.linalg.norm(w_curr - self.w) < self.tolerance):\n",
    "                break\n",
    "                \n",
    "            self.w = w_curr\n",
    "            self.loss_history.append(self.calc_loss(X, y))\n",
    "   \n",
    "        return self\n",
    "    \n",
    "    def predict(self, X):\n",
    "        if self.w is None:\n",
    "            raise Exception('Not trained yet')\n",
    "        \n",
    "        return np.dot(X, self.w)\n",
    "    \n",
    "    def calc_gradient(self, X, y):\n",
    "        \"\"\"\n",
    "        X: np.array of shape (l, d) (l can be equal to 1 if stochastic)\n",
    "        y: np.array of shape (l)\n",
    "        ---\n",
    "        output: np.array of shape (d)\n",
    "        \"\"\"\n",
    "        \n",
    "        l = X.shape[0]\n",
    "        return (2/l) * np.dot(X.T, (np.dot(X, self.w) - y))\n",
    "\n",
    "    def calc_loss(self, X, y):\n",
    "        \"\"\"\n",
    "        X: np.array of shape (l, d)\n",
    "        y: np.array of shape (l)\n",
    "        ---\n",
    "        output: float \n",
    "        \"\"\" \n",
    "        return (((self.predict(X) - y) ** 2).mean())"
   ]
  },
  {
   "cell_type": "markdown",
   "metadata": {},
   "source": [
    "#### 7. [1 points] \n",
    "Train and validate \"hand-written\" model (simple linear regression) on the same data, and compare the quality with the Sklearn or StatsModels methods. Investigate the effect of the `max_iter` and `alpha` parameters on the optimization process. Is it consistent with your expectations?"
   ]
  },
  {
   "cell_type": "code",
   "execution_count": 170,
   "metadata": {},
   "outputs": [
    {
     "name": "stdout",
     "output_type": "stream",
     "text": [
      "1000 iterations\n",
      "\n",
      "\n",
      "Linear Regression\n",
      "--------------------------------------\n",
      "RMSE = 5.7962\n",
      "R2 score = 0.5874\n",
      "\n",
      "\n",
      "Gradient Descent\n",
      "--------------------------------------\n",
      "RMSE = 5.8222\n",
      "R2 score = 0.5837\n",
      "\n",
      "\n",
      "Stochastic Gradient Descent\n",
      "--------------------------------------\n",
      "RMSE = 5.8374\n",
      "R2 score = 0.5815\n",
      "\n",
      "\n",
      "Momentum\n",
      "--------------------------------------\n",
      "RMSE = 5.7915\n",
      "R2 score = 0.5881\n",
      "\n",
      "\n",
      "Momentum small alpha\n",
      "--------------------------------------\n",
      "RMSE = 5.8190\n",
      "R2 score = 0.5842\n",
      "\n",
      "\n",
      "Momentum big alpha\n",
      "--------------------------------------\n",
      "RMSE = 6.8459\n",
      "R2 score = 0.4244\n"
     ]
    }
   ],
   "source": [
    "w0 = np.random.rand(X_train_scaled[0].size)\n",
    "gd = LinReg(gd_type='GradientDescent', w0 = w0, max_iter = 1000)\n",
    "gd.fit(X_train_scaled, Y_train)\n",
    "\n",
    "sgd = LinReg(gd_type='StochasticDescent', w0 = w0,  max_iter = 1000)\n",
    "sgd.fit(X_train_scaled, Y_train)\n",
    "\n",
    "momentum=LinReg(gd_type='Momentum', w0 = w0, alpha = 0.5,  max_iter = 1000)\n",
    "momentum.fit(X_train_scaled, Y_train)\n",
    "\n",
    "momentumSmall=LinReg(gd_type='Momentum', w0 = w0, alpha = 0.9,  max_iter = 100)\n",
    "momentumSmall.fit(X_train_scaled, Y_train)\n",
    "\n",
    "momentumBig=LinReg(gd_type='Momentum', w0 = w0, alpha = 0.1,  max_iter = 100)\n",
    "momentumBig.fit(X_train_scaled, Y_train)\n",
    "\n",
    "rmse = (np.sqrt(mean_squared_error(Y_test, y_test_predict)))\n",
    "r2 = r2_score(Y_test, y_test_predict)\n",
    "\n",
    "print(\"1000 iterations\")\n",
    "print(\"\\n\")\n",
    "print(\"Linear Regression\")\n",
    "print(\"--------------------------------------\")\n",
    "print(\"RMSE = %.4f\" % rmse)\n",
    "print(\"R2 score = %.4f\" % r2)\n",
    "\n",
    "print(\"\\n\")\n",
    "print(\"Gradient Descent\")\n",
    "rmse = (np.sqrt(mean_squared_error(Y_test, gd.predict(X_test_scaled))))\n",
    "r2 = r2_score(Y_test, gd.predict(X_test_scaled))\n",
    "print(\"--------------------------------------\")\n",
    "print(\"RMSE = %.4f\" % rmse)\n",
    "print(\"R2 score = %.4f\" % r2)\n",
    "\n",
    "print(\"\\n\")\n",
    "print(\"Stochastic Gradient Descent\")\n",
    "rmse = (np.sqrt(mean_squared_error(Y_test, sgd.predict(X_test_scaled))))\n",
    "r2 = r2_score(Y_test, sgd.predict(X_test_scaled))\n",
    "print(\"--------------------------------------\")\n",
    "print(\"RMSE = %.4f\" % rmse)\n",
    "print(\"R2 score = %.4f\" % r2)\n",
    "\n",
    "print(\"\\n\")\n",
    "print(\"Momentum\")\n",
    "rmse = (np.sqrt(mean_squared_error(Y_test, momentum.predict(X_test_scaled))))\n",
    "r2 = r2_score(Y_test, momentum.predict(X_test_scaled))\n",
    "print(\"--------------------------------------\")\n",
    "print(\"RMSE = %.4f\" % rmse)\n",
    "print(\"R2 score = %.4f\" % r2)\n",
    "\n",
    "print(\"\\n\")\n",
    "print(\"Momentum small alpha\")\n",
    "rmse = (np.sqrt(mean_squared_error(Y_test, momentumSmall.predict(X_test_scaled))))\n",
    "r2 = r2_score(Y_test, momentumSmall.predict(X_test_scaled))\n",
    "print(\"--------------------------------------\")\n",
    "print(\"RMSE = %.4f\" % rmse)\n",
    "print(\"R2 score = %.4f\" % r2)\n",
    "\n",
    "print(\"\\n\")\n",
    "print(\"Momentum big alpha\")\n",
    "rmse = (np.sqrt(mean_squared_error(Y_test, momentumBig.predict(X_test_scaled))))\n",
    "r2 = r2_score(Y_test, momentumBig.predict(X_test_scaled))\n",
    "print(\"--------------------------------------\")\n",
    "print(\"RMSE = %.4f\" % rmse)\n",
    "print(\"R2 score = %.4f\" % r2)"
   ]
  },
  {
   "cell_type": "code",
   "execution_count": 168,
   "metadata": {},
   "outputs": [
    {
     "name": "stdout",
     "output_type": "stream",
     "text": [
      "100 iterations\n",
      "\n",
      "\n",
      "Linear Regression\n",
      "--------------------------------------\n",
      "RMSE = 5.7962\n",
      "R2 score = 0.5874\n",
      "\n",
      "\n",
      "Gradient Descent\n",
      "--------------------------------------\n",
      "RMSE = 7.0527\n",
      "R2 score = 0.3891\n",
      "\n",
      "\n",
      "Stochastic Gradient Descent\n",
      "--------------------------------------\n",
      "RMSE = 7.0386\n",
      "R2 score = 0.3916\n",
      "\n",
      "\n",
      "Momentum\n",
      "--------------------------------------\n",
      "RMSE = 6.0796\n",
      "R2 score = 0.5461\n",
      "\n",
      "\n",
      "Momentum small alpha\n",
      "--------------------------------------\n",
      "RMSE = 5.8188\n",
      "R2 score = 0.5842\n",
      "\n",
      "\n",
      "Momentum big alpha\n",
      "--------------------------------------\n",
      "RMSE = 6.7562\n",
      "R2 score = 0.4394\n"
     ]
    }
   ],
   "source": [
    "w0 = np.random.rand(X_train_scaled[0].size)\n",
    "gd = LinReg(gd_type='GradientDescent', w0 = w0, max_iter = 100)\n",
    "gd.fit(X_train_scaled, Y_train)\n",
    "\n",
    "sgd = LinReg(gd_type='StochasticDescent', w0 = w0,  max_iter = 100)\n",
    "sgd.fit(X_train_scaled, Y_train)\n",
    "\n",
    "momentum=LinReg(gd_type='Momentum', w0 = w0, alpha = 0.5,  max_iter = 100)\n",
    "momentum.fit(X_train_scaled, Y_train)\n",
    "\n",
    "momentumSmall=LinReg(gd_type='Momentum', w0 = w0, alpha = 0.9,  max_iter = 100)\n",
    "momentumSmall.fit(X_train_scaled, Y_train)\n",
    "\n",
    "momentumBig=LinReg(gd_type='Momentum', w0 = w0, alpha = 0.1,  max_iter = 100)\n",
    "momentumBig.fit(X_train_scaled, Y_train)\n",
    "\n",
    "\n",
    "rmse = (np.sqrt(mean_squared_error(Y_test, y_test_predict)))\n",
    "r2 = r2_score(Y_test, y_test_predict)\n",
    "\n",
    "\n",
    "print(\"100 iterations\")\n",
    "print(\"\\n\")\n",
    "print(\"Linear Regression\")\n",
    "print(\"--------------------------------------\")\n",
    "print(\"RMSE = %.4f\" % rmse)\n",
    "print(\"R2 score = %.4f\" % r2)\n",
    "\n",
    "print(\"\\n\")\n",
    "print(\"Gradient Descent\")\n",
    "rmse = (np.sqrt(mean_squared_error(Y_test, gd.predict(X_test_scaled))))\n",
    "r2 = r2_score(Y_test, gd.predict(X_test_scaled))\n",
    "print(\"--------------------------------------\")\n",
    "print(\"RMSE = %.4f\" % rmse)\n",
    "print(\"R2 score = %.4f\" % r2)\n",
    "\n",
    "print(\"\\n\")\n",
    "print(\"Stochastic Gradient Descent\")\n",
    "rmse = (np.sqrt(mean_squared_error(Y_test, sgd.predict(X_test_scaled))))\n",
    "r2 = r2_score(Y_test, sgd.predict(X_test_scaled))\n",
    "print(\"--------------------------------------\")\n",
    "print(\"RMSE = %.4f\" % rmse)\n",
    "print(\"R2 score = %.4f\" % r2)\n",
    "\n",
    "print(\"\\n\")\n",
    "print(\"Momentum\")\n",
    "rmse = (np.sqrt(mean_squared_error(Y_test, momentum.predict(X_test_scaled))))\n",
    "r2 = r2_score(Y_test, momentum.predict(X_test_scaled))\n",
    "print(\"--------------------------------------\")\n",
    "print(\"RMSE = %.4f\" % rmse)\n",
    "print(\"R2 score = %.4f\" % r2)\n",
    "\n",
    "print(\"\\n\")\n",
    "print(\"Momentum small alpha\")\n",
    "rmse = (np.sqrt(mean_squared_error(Y_test, momentumSmall.predict(X_test_scaled))))\n",
    "r2 = r2_score(Y_test, momentumSmall.predict(X_test_scaled))\n",
    "print(\"--------------------------------------\")\n",
    "print(\"RMSE = %.4f\" % rmse)\n",
    "print(\"R2 score = %.4f\" % r2)\n",
    "\n",
    "print(\"\\n\")\n",
    "print(\"Momentum big alpha\")\n",
    "rmse = (np.sqrt(mean_squared_error(Y_test, momentumBig.predict(X_test_scaled))))\n",
    "r2 = r2_score(Y_test, momentumBig.predict(X_test_scaled))\n",
    "print(\"--------------------------------------\")\n",
    "print(\"RMSE = %.4f\" % rmse)\n",
    "print(\"R2 score = %.4f\" % r2)"
   ]
  },
  {
   "cell_type": "markdown",
   "metadata": {},
   "source": [
    "Если мы возьмем небольшое значение max_iter(=100), то, как и ожидалось, встроенный метод даёт лучшие результаты. RMSE  = 5.7962 vs RMSE = 7.***\n",
    "<br>\n",
    "Также, согласно ожиданиям, из реализованных методов лучше всех работает Momentum, так как является оптимизацией градиентного спуска (использует \"инерцию\" движения), а худшие показатели у Stochastic Gradient Descent, поскольку на каждой итерации оценка по одному объекту, поэтому этот результат тоже ожидаем\n",
    "<br>\n",
    "Но что примечательно: при большом значении max_iter(=1000) и средней alpha (=0.5) встроенный метод показал качество хуже, чем реализованный самостоятельно Momentum! Кроме того, показатели у всех методов улучшились и по качеству стали сравнимы с встроенным методом\n",
    "<br>\n",
    "Также можно сравнить качества Momentum в зависимости от alpha: при небольшом значении max_iter(=100), лучшее качество показывает наименьший alpha (=0.1) и даёт результат, сопоставимый с результатами встроенного метода\n",
    "<br>\n",
    "При большом значении max_iter(=1000) лучшее качество (превосходящее даже встроенный метод) у среднего alpha(=0.5)"
   ]
  },
  {
   "cell_type": "markdown",
   "metadata": {},
   "source": [
    "#### 8. [1 points] \n",
    "Plot graphs (on the same picture) of the dependence of the loss function value on the iteration number for Full GD, SGD and Momentum. Draw conclusions about the rate of convergence of various modifications of gradient descent.\n",
    "\n",
    "Don't forget about what *beautiful* graphics should look like!"
   ]
  },
  {
   "cell_type": "code",
   "execution_count": 173,
   "metadata": {},
   "outputs": [
    {
     "data": {
      "image/png": "[encoded data removed]",
      "text/plain": [
       "<Figure size 1080x360 with 1 Axes>"
      ]
     },
     "metadata": {},
     "output_type": "display_data"
    },
    {
     "data": {
      "image/png": "[encoded data removed]",
      "text/plain": [
       "<Figure size 432x288 with 1 Axes>"
      ]
     },
     "metadata": {},
     "output_type": "display_data"
    },
    {
     "data": {
      "image/png": "[encoded data removed]",
      "text/plain": [
       "<Figure size 432x288 with 1 Axes>"
      ]
     },
     "metadata": {},
     "output_type": "display_data"
    }
   ],
   "source": [
    "plt.figure(figsize=(15,5))\n",
    "\n",
    "plt.plot(gd.loss_history, label = 'Full Gradient Descent', color = 'green')\n",
    "plt.plot(sgd.loss_history, label = 'Stochastic Gradient Descent', color = 'yellow')\n",
    "plt.plot(momentumSmall.loss_history, label = 'Momentum, alpha = 0.1', color = 'blue')\n",
    "plt.plot(momentum.loss_history, label = 'Momentum, alpha = 0.5', color = 'red')\n",
    "plt.plot(momentumBig.loss_history, label = 'Momentum, alpha = 0.9', color = 'black')\n",
    "plt.title(\"Loss per iteration\")\n",
    "plt.xlabel(\"iteration number\")\n",
    "plt.ylabel(\"loss\")\n",
    "plt.legend()\n",
    "plt.show()\n",
    "\n",
    "\n",
    "plt.plot(gd.loss_history[:100], label = 'Full Gradient Descent', color = 'green')\n",
    "plt.plot(sgd.loss_history[:100], label = 'Stochastic Gradient Descent', color = 'yellow')\n",
    "plt.plot(momentumSmall.loss_history[:100], label = 'Momentum, alpha = 0.1', color = 'blue')\n",
    "plt.plot(momentum.loss_history[:100], label = 'Momentum, alpha = 0.5', color = 'red')\n",
    "plt.plot(momentumBig.loss_history[:100], label = 'Momentum, alpha = 0.9', color = 'black')\n",
    "plt.title(\"Loss per iteration\")\n",
    "plt.xlabel(\"iteration number\")\n",
    "plt.ylabel(\"loss\")\n",
    "plt.legend()\n",
    "plt.show()\n",
    "\n",
    "\n",
    "plt.plot(gd.loss_history[900:], label = 'Full Gradient Descent', color = 'green')\n",
    "plt.plot(sgd.loss_history[900:], label = 'Stochastic Gradient Descent', color = 'yellow')\n",
    "plt.plot(momentumSmall.loss_history[900:], label = 'Momentum, alpha = 0.1', color = 'blue')\n",
    "plt.plot(momentum.loss_history[900:], label = 'Momentum, alpha = 0.5', color = 'red')\n",
    "plt.plot(momentumBig.loss_history[900:], label = 'Momentum, alpha = 0.9', color = 'black')\n",
    "plt.title(\"Loss per iteration\")\n",
    "plt.xlabel(\"iteration number\")\n",
    "plt.ylabel(\"loss\")\n",
    "plt.legend()\n",
    "plt.show()"
   ]
  },
  {
   "cell_type": "markdown",
   "metadata": {},
   "source": [
    "Из 1 графика видно, что функция потерь полного градиентного спуска, стохастического и Momentum с alpha = 0.9 почти не отличаются. При этом наименьшие значения у Momentum с alpha = 0.1. \n",
    "<br>\n",
    "Если посмотреть на первые 100 значений(2 график), то опять же графики полного и стохастического градиентного спусков почти совпадают, но наименьшие значения по-прежнему у Momentum с alpha = 0.1.\n",
    "<br>\n",
    "На 3 же графике, то есть последних 100 итерациях, видно, как сильно колеблются значения стохастического спуска (что ожидаемо, так как в конце спуска оценка по одному объекту должна работать плохо, так как оптимумы у всех объектов, если брать их по отдельности, разные), остальные же графики уже являются горизонтальными прямыми (что также ожидаемо, так как изменения в конце уже незначительные)"
   ]
  }
 ],
 "metadata": {
  "kernelspec": {
   "display_name": "Python 3 (ipykernel)",
   "language": "python",
   "name": "python3"
  },
  "language_info": {
   "codemirror_mode": {
    "name": "ipython",
    "version": 3
   },
   "file_extension": ".py",
   "mimetype": "text/x-python",
   "name": "python",
   "nbconvert_exporter": "python",
   "pygments_lexer": "ipython3",
   "version": "3.8.9"
  }
 },
 "nbformat": 4,
 "nbformat_minor": 4
}
